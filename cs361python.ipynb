{
  "nbformat": 4,
  "nbformat_minor": 0,
  "metadata": {
    "colab": {
      "name": "Untitled0.ipynb",
      "version": "0.3.2",
      "provenance": [],
      "include_colab_link": true
    },
    "kernelspec": {
      "name": "python3",
      "display_name": "Python 3"
    }
  },
  "cells": [
    {
      "cell_type": "markdown",
      "metadata": {
        "id": "view-in-github",
        "colab_type": "text"
      },
      "source": [
        "<a href=\"https://colab.research.google.com/github/krutikaw/Python/blob/master/cs361python.ipynb\" target=\"_parent\"><img src=\"https://colab.research.google.com/assets/colab-badge.svg\" alt=\"Open In Colab\"/></a>"
      ]
    },
    {
      "metadata": {
        "id": "UhLMt7uhDlEM",
        "colab_type": "code",
        "outputId": "e1a6c417-0f41-41b7-8e12-ac989100b2ce",
        "colab": {
          "base_uri": "https://localhost:8080/",
          "height": 353
        }
      },
      "cell_type": "code",
      "source": [
        "found = 0\n",
        "x = 11\n",
        "while found < 20:\n",
        "  if x%5 == 0 and x%7 == 0 and x%11 == 0:\n",
        "    print(x)\n",
        "    found = found+1\n",
        "  x = x+1\n"
      ],
      "execution_count": 0,
      "outputs": [
        {
          "output_type": "stream",
          "text": [
            "385\n",
            "770\n",
            "1155\n",
            "1540\n",
            "1925\n",
            "2310\n",
            "2695\n",
            "3080\n",
            "3465\n",
            "3850\n",
            "4235\n",
            "4620\n",
            "5005\n",
            "5390\n",
            "5775\n",
            "6160\n",
            "6545\n",
            "6930\n",
            "7315\n",
            "7700\n"
          ],
          "name": "stdout"
        }
      ]
    },
    {
      "metadata": {
        "id": "pviv3shBQ96B",
        "colab_type": "code",
        "colab": {}
      },
      "cell_type": "code",
      "source": [
        ""
      ],
      "execution_count": 0,
      "outputs": []
    },
    {
      "metadata": {
        "id": "33TNHam3j7t7",
        "colab_type": "code",
        "colab": {}
      },
      "cell_type": "code",
      "source": [
        "def isPrime(num):\n",
        "  if num > 1:\n",
        "\n",
        "    for i in range(2,num):\n",
        "      if (num % i) == 0:\n",
        "        \n",
        "        break\n",
        "      else:\n",
        "        print(\"True\")\n",
        "        break\n"
      ],
      "execution_count": 0,
      "outputs": []
    },
    {
      "metadata": {
        "id": "kLr9PliokhNa",
        "colab_type": "code",
        "outputId": "f977bcea-11fe-4b57-952b-d14462cb5caa",
        "colab": {
          "base_uri": "https://localhost:8080/",
          "height": 34
        }
      },
      "cell_type": "code",
      "source": [
        "isPrime(17)"
      ],
      "execution_count": 0,
      "outputs": [
        {
          "output_type": "stream",
          "text": [
            "True\n"
          ],
          "name": "stdout"
        }
      ]
    },
    {
      "metadata": {
        "id": "2vkMxthkkhbc",
        "colab_type": "code",
        "colab": {}
      },
      "cell_type": "code",
      "source": [
        "isPrime(16)"
      ],
      "execution_count": 0,
      "outputs": []
    },
    {
      "metadata": {
        "id": "59hBx0waESQk",
        "colab_type": "code",
        "colab": {}
      },
      "cell_type": "code",
      "source": [
        "def isPrime(num):\n",
        "  if num == 2 or num == 3:\n",
        "    print(\"True\")\n",
        "  elif (num % 6 == 1 or num % 6 == 5):\n",
        "    print(\"True\")\n"
      ],
      "execution_count": 0,
      "outputs": []
    },
    {
      "metadata": {
        "id": "xOOfJ4K7EV-u",
        "colab_type": "code",
        "outputId": "9acc14eb-b6f0-40f3-ff8f-87b7401e1c4c",
        "colab": {
          "base_uri": "https://localhost:8080/",
          "height": 34
        }
      },
      "cell_type": "code",
      "source": [
        "isPrime(23)"
      ],
      "execution_count": 0,
      "outputs": [
        {
          "output_type": "stream",
          "text": [
            "True\n"
          ],
          "name": "stdout"
        }
      ]
    },
    {
      "metadata": {
        "id": "4GrZqHMaEj-k",
        "colab_type": "code",
        "colab": {}
      },
      "cell_type": "code",
      "source": [
        "def isPrime(num):\n",
        "  for i in range(num):\n",
        "    if i == 2 or i == 3:\n",
        "      print(i)\n",
        "    elif (i % 6 == 1 or i % 6 == 5):\n",
        "      print(i)\n"
      ],
      "execution_count": 0,
      "outputs": []
    },
    {
      "metadata": {
        "id": "cdRfDh71Elsp",
        "colab_type": "code",
        "outputId": "6d5b8a80-f838-4450-bf28-f16a765fd8dd",
        "colab": {
          "base_uri": "https://localhost:8080/",
          "height": 134
        }
      },
      "cell_type": "code",
      "source": [
        "isPrime(17)"
      ],
      "execution_count": 0,
      "outputs": [
        {
          "output_type": "stream",
          "text": [
            "1\n",
            "2\n",
            "3\n",
            "5\n",
            "7\n",
            "11\n",
            "13\n"
          ],
          "name": "stdout"
        }
      ]
    },
    {
      "metadata": {
        "id": "toLzbmPzlDlo",
        "colab_type": "code",
        "colab": {}
      },
      "cell_type": "code",
      "source": [
        "def isPrime(num):\n",
        "  i=0\n",
        "  while num>0:\n",
        "    if i == 2 or i == 3:\n",
        "      print(i)\n",
        "      num=num-1\n",
        "      i=i+1\n",
        "    elif (i % 6 == 1 or i % 6 == 5):\n",
        "      print(i)\n",
        "      num=num-1\n",
        "      i=i+1\n",
        "    else:\n",
        "      i=i+1\n"
      ],
      "execution_count": 0,
      "outputs": []
    },
    {
      "metadata": {
        "id": "-it3qOB1oUVF",
        "colab_type": "code",
        "outputId": "0da10532-b9ed-4e7e-dbb8-2010a8c0cbbf",
        "colab": {
          "base_uri": "https://localhost:8080/",
          "height": 118
        }
      },
      "cell_type": "code",
      "source": [
        "isPrime(6)"
      ],
      "execution_count": 0,
      "outputs": [
        {
          "output_type": "stream",
          "text": [
            "1\n",
            "2\n",
            "3\n",
            "5\n",
            "7\n",
            "11\n"
          ],
          "name": "stdout"
        }
      ]
    },
    {
      "metadata": {
        "id": "DhijX_Ge1z2u",
        "colab_type": "code",
        "outputId": "9cfa0907-112b-4816-ef3c-9f13f16cac5e",
        "colab": {
          "base_uri": "https://localhost:8080/",
          "height": 34
        }
      },
      "cell_type": "code",
      "source": [
        "def p(l):\n",
        "  for i in l:\n",
        "    print(i)\n",
        "p([2,3,4,5,6,7])"
      ],
      "execution_count": 0,
      "outputs": [
        {
          "output_type": "stream",
          "text": [
            "[2, 3, 4, 5]\n"
          ],
          "name": "stdout"
        }
      ]
    },
    {
      "metadata": {
        "id": "JnQgEjrLAgjM",
        "colab_type": "code",
        "outputId": "89bf8994-e9fd-40cb-f8c8-073a7dd50a65",
        "colab": {
          "base_uri": "https://localhost:8080/",
          "height": 101
        }
      },
      "cell_type": "code",
      "source": [
        "def pr():\n",
        "  for i in l[::-1]:\n",
        "    print(i)\n",
        "\n",
        "pr([2,3,4,5,6])"
      ],
      "execution_count": 0,
      "outputs": [
        {
          "output_type": "stream",
          "text": [
            "6\n",
            "5\n",
            "4\n",
            "3\n",
            "2\n"
          ],
          "name": "stdout"
        }
      ]
    },
    {
      "metadata": {
        "id": "kjkv5CsRBFSr",
        "colab_type": "code",
        "outputId": "117d7564-bcaf-4485-c8e2-f82412f967e5",
        "colab": {
          "base_uri": "https://localhost:8080/",
          "height": 34
        }
      },
      "cell_type": "code",
      "source": [
        "def length(list):\n",
        "  j=0\n",
        "  for i in list:\n",
        "    j=j+1\n",
        "  return j\n",
        "\n",
        "length([2,3,4,5,6])\n",
        "  "
      ],
      "execution_count": 0,
      "outputs": [
        {
          "output_type": "execute_result",
          "data": {
            "text/plain": [
              "5"
            ]
          },
          "metadata": {
            "tags": []
          },
          "execution_count": 206
        }
      ]
    },
    {
      "metadata": {
        "id": "F66Xx2eqEc7B",
        "colab_type": "code",
        "colab": {}
      },
      "cell_type": "code",
      "source": [
        "a =[1,2,3,4,5,6,7]\n"
      ],
      "execution_count": 0,
      "outputs": []
    },
    {
      "metadata": {
        "id": "d7RPvqBMHAX7",
        "colab_type": "code",
        "colab": {}
      },
      "cell_type": "code",
      "source": [
        "b=a"
      ],
      "execution_count": 0,
      "outputs": []
    },
    {
      "metadata": {
        "id": "YflkADQGHHBI",
        "colab_type": "code",
        "colab": {}
      },
      "cell_type": "code",
      "source": [
        "b[1]=4"
      ],
      "execution_count": 0,
      "outputs": []
    },
    {
      "metadata": {
        "id": "oZGTYwcRHLyr",
        "colab_type": "code",
        "outputId": "1b37765b-8e7a-4bde-a8ad-b4c11fcef5fb",
        "colab": {
          "base_uri": "https://localhost:8080/",
          "height": 34
        }
      },
      "cell_type": "code",
      "source": [
        "print(a)"
      ],
      "execution_count": 0,
      "outputs": [
        {
          "output_type": "stream",
          "text": [
            "[1, 4, 3, 4, 5, 6, 7]\n"
          ],
          "name": "stdout"
        }
      ]
    },
    {
      "metadata": {
        "id": "xB_5GYFkHP9B",
        "colab_type": "code",
        "colab": {}
      },
      "cell_type": "code",
      "source": [
        "c=a[:]"
      ],
      "execution_count": 0,
      "outputs": []
    },
    {
      "metadata": {
        "id": "ZVmsh8kKIpv8",
        "colab_type": "code",
        "outputId": "27775cd1-9ce0-4cb3-8ed1-3c099cb756d1",
        "colab": {
          "base_uri": "https://localhost:8080/",
          "height": 34
        }
      },
      "cell_type": "code",
      "source": [
        "print(c)"
      ],
      "execution_count": 0,
      "outputs": [
        {
          "output_type": "stream",
          "text": [
            "[1, 4, 10, 4, 5, 6, 7]\n"
          ],
          "name": "stdout"
        }
      ]
    },
    {
      "metadata": {
        "id": "-YIbUw36HUSi",
        "colab_type": "code",
        "colab": {}
      },
      "cell_type": "code",
      "source": [
        "c[2]=10"
      ],
      "execution_count": 0,
      "outputs": []
    },
    {
      "metadata": {
        "id": "8bWru8UBHXwi",
        "colab_type": "code",
        "outputId": "0e112136-2e58-4610-c3c6-5c42f47b81b1",
        "colab": {
          "base_uri": "https://localhost:8080/",
          "height": 34
        }
      },
      "cell_type": "code",
      "source": [
        "print(a)"
      ],
      "execution_count": 0,
      "outputs": [
        {
          "output_type": "stream",
          "text": [
            "[1, 4, 3, 4, 5, 6, 7]\n"
          ],
          "name": "stdout"
        }
      ]
    },
    {
      "metadata": {
        "id": "nMx2pF9yx5XY",
        "colab_type": "code",
        "outputId": "660140cc-f1f2-45d7-8583-bc037f6641df",
        "colab": {
          "base_uri": "https://localhost:8080/",
          "height": 34
        }
      },
      "cell_type": "code",
      "source": [
        "def listnew(l):\n",
        "  finalList=[]\n",
        "  for list in l:\n",
        "    for ele in list:\n",
        "      finalList.append(ele)\n",
        "  print(finalList)\n",
        "\n",
        "listnew([[1,3],[3,6]])\n"
      ],
      "execution_count": 0,
      "outputs": [
        {
          "output_type": "stream",
          "text": [
            "[1, 3, 3, 6]\n"
          ],
          "name": "stdout"
        }
      ]
    },
    {
      "metadata": {
        "id": "67GvaKA4uryf",
        "colab_type": "code",
        "outputId": "2db7c3d1-099a-4ba9-b8e0-b60862a9187d",
        "colab": {
          "base_uri": "https://localhost:8080/",
          "height": 393
        }
      },
      "cell_type": "code",
      "source": [
        "import matplotlib.pyplot as plt\n",
        "import numpy as np\n",
        "x=np.linspace(0,2,100)\n",
        "\n",
        "y=np.sin(x-2)**(2)*2.718**(-(x**2))\n",
        "plt.xlabel(\"x-axis\")\n",
        "plt.ylabel(\"y-axis\")\n",
        "plt.title(\"Line Graph Example\")\n",
        "plt.plot(x,y)"
      ],
      "execution_count": 0,
      "outputs": [
        {
          "output_type": "execute_result",
          "data": {
            "text/plain": [
              "[<matplotlib.lines.Line2D at 0x7f2f91bd5080>]"
            ]
          },
          "metadata": {
            "tags": []
          },
          "execution_count": 198
        },
        {
          "output_type": "display_data",
          "data": {
            "image/png": "[encoded data removed]",
            "text/plain": [
              "<matplotlib.figure.Figure at 0x7f2f91bf91d0>"
            ]
          },
          "metadata": {
            "tags": []
          }
        }
      ]
    },
    {
      "metadata": {
        "id": "jXQODiZn22Ey",
        "colab_type": "code",
        "outputId": "767b7243-c64f-46d3-d693-4696dfb49bdb",
        "colab": {
          "base_uri": "https://localhost:8080/",
          "height": 34
        }
      },
      "cell_type": "code",
      "source": [
        "def product(ls):\n",
        "  if not ls:\n",
        "    return 1\n",
        " \n",
        "  return ls.pop()*product(ls)\n",
        "\n",
        "product([2,3,5,6])"
      ],
      "execution_count": 0,
      "outputs": [
        {
          "output_type": "execute_result",
          "data": {
            "text/plain": [
              "180"
            ]
          },
          "metadata": {
            "tags": []
          },
          "execution_count": 34
        }
      ]
    },
    {
      "metadata": {
        "id": "Oaa8vSANFsk0",
        "colab_type": "code",
        "outputId": "3a80ed6d-c944-40d0-901c-a7b5b8a918cb",
        "colab": {
          "base_uri": "https://localhost:8080/",
          "height": 34
        }
      },
      "cell_type": "code",
      "source": [
        "def product(ls):\n",
        "  prod=1;\n",
        "  for ele in ls:\n",
        "    prod=prod*ele\n",
        "  return prod\n",
        "product([2,3,5,6])\n"
      ],
      "execution_count": 0,
      "outputs": [
        {
          "output_type": "execute_result",
          "data": {
            "text/plain": [
              "180"
            ]
          },
          "metadata": {
            "tags": []
          },
          "execution_count": 220
        }
      ]
    },
    {
      "metadata": {
        "id": "oNHaYETuGCzq",
        "colab_type": "code",
        "outputId": "3f82518d-57d3-4d54-e7ba-d6a4c1099dc1",
        "colab": {
          "base_uri": "https://localhost:8080/",
          "height": 34
        }
      },
      "cell_type": "code",
      "source": [
        "def F(n):\n",
        "    if n == 0: \n",
        "      return 0\n",
        "    elif n == 1: \n",
        "      return 1\n",
        "    else: \n",
        "      return F(n-1)+F(n-2)\n",
        "\n",
        "F(6)\n"
      ],
      "execution_count": 0,
      "outputs": [
        {
          "output_type": "execute_result",
          "data": {
            "text/plain": [
              "8"
            ]
          },
          "metadata": {
            "tags": []
          },
          "execution_count": 62
        }
      ]
    },
    {
      "metadata": {
        "id": "9YBmvantdLp9",
        "colab_type": "code",
        "outputId": "dd40493b-e4c2-4122-d6d6-81e078fdaa80",
        "colab": {
          "base_uri": "https://localhost:8080/",
          "height": 121
        }
      },
      "cell_type": "code",
      "source": [
        "from google.colab import drive\n",
        "drive.mount('/content/drive')"
      ],
      "execution_count": 0,
      "outputs": [
        {
          "output_type": "stream",
          "text": [
            "Go to this URL in a browser: https://accounts.google.com/o/oauth2/auth?client_id=947318989803-6bn6qk8qdgf4n4g3pfee6491hc0brc4i.apps.googleusercontent.com&redirect_uri=urn%3Aietf%3Awg%3Aoauth%3A2.0%3Aoob&scope=email%20https%3A%2F%2Fwww.googleapis.com%2Fauth%2Fdocs.test%20https%3A%2F%2Fwww.googleapis.com%2Fauth%2Fdrive%20https%3A%2F%2Fwww.googleapis.com%2Fauth%2Fdrive.photos.readonly%20https%3A%2F%2Fwww.googleapis.com%2Fauth%2Fpeopleapi.readonly&response_type=code\n",
            "\n",
            "Enter your authorization code:\n",
            "··········\n",
            "Mounted at /content/drive\n"
          ],
          "name": "stdout"
        }
      ]
    },
    {
      "metadata": {
        "id": "9tnOrEq_bv0w",
        "colab_type": "code",
        "outputId": "1f15331f-bbfa-4069-8017-f742bdb753b5",
        "colab": {
          "base_uri": "https://localhost:8080/",
          "height": 151
        }
      },
      "cell_type": "code",
      "source": [
        "from google.colab import files\n",
        "\n",
        "with open('input.txt', 'r') as f:\n",
        "  line = f.read()\n",
        "  match = re.findall(r'[\"?\\w\\.]+@[\\w\\.]+\\.\\w+', line)\n",
        "  for i in match:\n",
        "    print(i)\n"
      ],
      "execution_count": 0,
      "outputs": [
        {
          "output_type": "stream",
          "text": [
            "alice@stanford.com\n",
            "bob@spain.es\n",
            "email@addresses.com\n",
            "british@gmail.co.uk\n",
            "bob@gmail.com\n",
            "this@must.be\n",
            "\"very.unusual.@.unusual.com\n",
            "\"@example.com\n"
          ],
          "name": "stdout"
        }
      ]
    }
  ]
}